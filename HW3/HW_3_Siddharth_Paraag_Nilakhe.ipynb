{
 "cells": [
  {
   "cell_type": "markdown",
   "metadata": {
    "id": "WE9WGE_m-4J-"
   },
   "source": [
    "# HW 4: Natural Language Processing"
   ]
  },
  {
   "cell_type": "markdown",
   "metadata": {},
   "source": [
    "<div class=\"alert alert-block alert-warning\">Each assignment needs to be completed independently. Never ever copy others' work or let someone copy your solution (even with minor modification, e.g. changing variable names). Anti-Plagiarism software will be used to check all submissions. No last minute extension of due date. Be sure to start working on it ASAP! </div>"
   ]
  },
  {
   "cell_type": "markdown",
   "metadata": {
    "id": "hKVEJOmf-4KC"
   },
   "source": [
    "## Q1: Extract data using regular expression\n",
    "Suppose you have scraped the text shown below from an online source (https://www.google.com/finance/). \n",
    "Define a `extract` function which:\n",
    "- takes a piece of text (in the format of shown below) as an input\n",
    "- uses regular expression to transform the text into a DataFrame with columns: 'Ticker','Name','Article','Media','Time','Price',and 'Change' \n",
    "- returns the DataFrame"
   ]
  },
  {
   "cell_type": "code",
   "execution_count": 60,
   "metadata": {
    "ExecuteTime": {
     "end_time": "2021-10-19T07:27:54.060105Z",
     "start_time": "2021-10-19T07:27:50.568579Z"
    },
    "id": "Cq9Xzhnw-4KD"
   },
   "outputs": [],
   "source": [
    "import pandas as pd\n",
    "import nltk\n",
    "from sklearn.metrics import pairwise_distances\n",
    "import numpy as np\n",
    "from matplotlib import pyplot as plt\n",
    "from sklearn.preprocessing import normalize\n",
    "import re\n",
    "import spacy\n",
    "\n",
    "from IPython.core.interactiveshell import InteractiveShell\n",
    "InteractiveShell.ast_node_interactivity = \"all\""
   ]
  },
  {
   "cell_type": "code",
   "execution_count": 61,
   "metadata": {},
   "outputs": [],
   "source": [
    "text = '''QQQ\n",
    "Invesco QQQ Trust Series 1\n",
    "Invesco Expands QQQ Innovation Suite to Include Small-Cap ETF\n",
    "PR Newswire • 4 hours ago\n",
    "$265.62\n",
    "1.13%\n",
    "add_circle_outline\n",
    "AAPL\n",
    "Apple Inc\n",
    "Estimating The Fair Value Of Apple Inc. (NASDAQ:AAPL)\n",
    "Yahoo Finance • 4 hours ago\n",
    "$140.41\n",
    "1.50%\n",
    "add_circle_outline\n",
    "TSLA\n",
    "Tesla Inc\n",
    "Could This Tesla Stock Unbalanced Iron Condor Return 23%?\n",
    "Investor's Business Daily • 1 hour ago\n",
    "$218.30\n",
    "0.49%\n",
    "add_circle_outline\n",
    "AMZN\n",
    "Amazon.com, Inc.\n",
    "The Regulators of Facebook, Google and Amazon Also Invest in the Companies' Stocks\n",
    "Wall Street Journal • 2 days ago\n",
    "$110.91\n",
    "1.76%\n",
    "add_circle_outline'''\n",
    "\n"
   ]
  },
  {
   "cell_type": "code",
   "execution_count": 62,
   "metadata": {
    "ExecuteTime": {
     "end_time": "2021-10-19T07:27:54.082105Z",
     "start_time": "2021-10-19T07:27:54.072106Z"
    },
    "id": "StFfIbLB-4KG"
   },
   "outputs": [],
   "source": [
    "def extract(text):\n",
    "    \n",
    "    result = None\n",
    "    # add your code here\n",
    "    \n",
    "    data_re = re.findall('([A-Z]+)\\n([A-Za-z\\s\\.,\\d]+)\\n([A-Za-z-%\\.\\d\\?,\\)\\(\\':\\s]+)\\n([A-Za-z\\'\\s]+)•\\s([A-Za-z\\d\\s]+)\\n([\\d\\$\\.]+)\\n([\\d\\.%]+)' , text)\n",
    "    \n",
    "    result = pd.DataFrame(data_re,columns=['Ticker','Name','Article','Media','Time','Price','Change'])\n",
    "    \n",
    "    return result"
   ]
  },
  {
   "cell_type": "code",
   "execution_count": 63,
   "metadata": {
    "ExecuteTime": {
     "end_time": "2021-10-19T07:27:54.094108Z",
     "start_time": "2021-10-19T07:27:54.084106Z"
    }
   },
   "outputs": [
    {
     "data": {
      "text/html": [
       "<div>\n",
       "<style scoped>\n",
       "    .dataframe tbody tr th:only-of-type {\n",
       "        vertical-align: middle;\n",
       "    }\n",
       "\n",
       "    .dataframe tbody tr th {\n",
       "        vertical-align: top;\n",
       "    }\n",
       "\n",
       "    .dataframe thead th {\n",
       "        text-align: right;\n",
       "    }\n",
       "</style>\n",
       "<table border=\"1\" class=\"dataframe\">\n",
       "  <thead>\n",
       "    <tr style=\"text-align: right;\">\n",
       "      <th></th>\n",
       "      <th>Ticker</th>\n",
       "      <th>Name</th>\n",
       "      <th>Article</th>\n",
       "      <th>Media</th>\n",
       "      <th>Time</th>\n",
       "      <th>Price</th>\n",
       "      <th>Change</th>\n",
       "    </tr>\n",
       "  </thead>\n",
       "  <tbody>\n",
       "    <tr>\n",
       "      <th>0</th>\n",
       "      <td>QQQ</td>\n",
       "      <td>Invesco QQQ Trust Series 1</td>\n",
       "      <td>Invesco Expands QQQ Innovation Suite to Includ...</td>\n",
       "      <td>PR Newswire</td>\n",
       "      <td>4 hours ago</td>\n",
       "      <td>$265.62</td>\n",
       "      <td>1.13%</td>\n",
       "    </tr>\n",
       "    <tr>\n",
       "      <th>1</th>\n",
       "      <td>AAPL</td>\n",
       "      <td>Apple Inc</td>\n",
       "      <td>Estimating The Fair Value Of Apple Inc. (NASDA...</td>\n",
       "      <td>Yahoo Finance</td>\n",
       "      <td>4 hours ago</td>\n",
       "      <td>$140.41</td>\n",
       "      <td>1.50%</td>\n",
       "    </tr>\n",
       "    <tr>\n",
       "      <th>2</th>\n",
       "      <td>TSLA</td>\n",
       "      <td>Tesla Inc</td>\n",
       "      <td>Could This Tesla Stock Unbalanced Iron Condor ...</td>\n",
       "      <td>Investor's Business Daily</td>\n",
       "      <td>1 hour ago</td>\n",
       "      <td>$218.30</td>\n",
       "      <td>0.49%</td>\n",
       "    </tr>\n",
       "    <tr>\n",
       "      <th>3</th>\n",
       "      <td>AMZN</td>\n",
       "      <td>Amazon.com, Inc.</td>\n",
       "      <td>The Regulators of Facebook, Google and Amazon ...</td>\n",
       "      <td>Wall Street Journal</td>\n",
       "      <td>2 days ago</td>\n",
       "      <td>$110.91</td>\n",
       "      <td>1.76%</td>\n",
       "    </tr>\n",
       "  </tbody>\n",
       "</table>\n",
       "</div>"
      ],
      "text/plain": [
       "  Ticker                        Name  \\\n",
       "0    QQQ  Invesco QQQ Trust Series 1   \n",
       "1   AAPL                   Apple Inc   \n",
       "2   TSLA                   Tesla Inc   \n",
       "3   AMZN            Amazon.com, Inc.   \n",
       "\n",
       "                                             Article  \\\n",
       "0  Invesco Expands QQQ Innovation Suite to Includ...   \n",
       "1  Estimating The Fair Value Of Apple Inc. (NASDA...   \n",
       "2  Could This Tesla Stock Unbalanced Iron Condor ...   \n",
       "3  The Regulators of Facebook, Google and Amazon ...   \n",
       "\n",
       "                        Media         Time    Price Change  \n",
       "0                PR Newswire   4 hours ago  $265.62  1.13%  \n",
       "1              Yahoo Finance   4 hours ago  $140.41  1.50%  \n",
       "2  Investor's Business Daily    1 hour ago  $218.30  0.49%  \n",
       "3        Wall Street Journal    2 days ago  $110.91  1.76%  "
      ]
     },
     "execution_count": 63,
     "metadata": {},
     "output_type": "execute_result"
    }
   ],
   "source": [
    "# test your function\n",
    "\n",
    "extract(text)"
   ]
  },
  {
   "cell_type": "markdown",
   "metadata": {
    "id": "Aab-6OWh-4KI"
   },
   "source": [
    "## Q2: Analyze a document\n",
    "\n",
    "When you have a long document, you would like to \n",
    "- Quanitfy how `concrete` a sentence is\n",
    "- Create a concise summary while preserving it's key information content and overall meaning. Let's implement an `extractive method` based on the concept of TF-IDF. The idea is to identify the key sentences from an article and use them as a summary. \n",
    "\n",
    "\n",
    "Carefully follow the following steps to achieve these two targets."
   ]
  },
  {
   "cell_type": "markdown",
   "metadata": {
    "id": "hsnCv2VZ-4KI"
   },
   "source": [
    "### Q2.1. Preprocess the input document \n",
    "\n",
    "Define a function `proprocess(doc, lemmatized = True, remove_stopword = True, lower_case = True, remove_punctuation = True, pos_tag = False)` \n",
    "- Four input parameters:\n",
    "    - `doc`: an input string (e.g. a document)\n",
    "    - `lemmatized`: an optional boolean parameter to indicate if tokens are lemmatized. The default value is True (i.e. tokens are lemmatized).\n",
    "    - `remove_stopword`: an optional boolean parameter to remove stop words. The default value is True, i.e., remove stop words. \n",
    "    - `remove_punctuation`: optional boolean parameter to remove punctuations. The default values is True, i.e., remove all punctuations.\n",
    "    - `lower_case`: optional boolean parameter to convert all tokens to lower case. The default option is True, i.e., lowercase all tokens.\n",
    "    - `pos_tag`: optional boolean parameter to add a POS tag for each token. The default option is False, i.e., no POS tagging.  \n",
    "    \n",
    "       \n",
    "- Split the input `doc` into sentences. Hint, typically, `\\n\\n+` is used to separate paragraphs. Make sure a sentence does not cross over two paragraphs. You can replace `\\n\\n+` by a `.`\n",
    "\n",
    "\n",
    "- Tokenize each sentence into unigram tokens and also process the tokens as follows:\n",
    "    - If `lemmatized` is True, lemmatize all unigrams. \n",
    "    - If `remove_stopword` is set to True, remove all stop words. \n",
    "    - If `remove_punctuation` is set to True, remove all punctuations. \n",
    "    - If `lower_case` is set to True, convert all tokens to lower case \n",
    "    - If `pos_tag` is set to True, find the POS tag for each token and form a tuple for each token, e.g., ('recently', 'ADV'). Either Penn tags or Universal tags are fine. See mapping of these two tagging systems here: https://universaldependencies.org/tagset-conversion/en-penn-uposf.html\n",
    "\n",
    "\n",
    "- Return the original sentence list (`sents`) and also the tokenized (or tagged) sentence list (`tokenized_sents`). \n",
    "\n",
    "   \n",
    "(Hint: you can use [nltk](https://www.nltk.org/api/nltk.html) and [spacy](https://spacy.io/api/token#attributes) package for this task.)"
   ]
  },
  {
   "cell_type": "code",
   "execution_count": 64,
   "metadata": {
    "ExecuteTime": {
     "end_time": "2021-10-19T07:27:54.556104Z",
     "start_time": "2021-10-19T07:27:54.096107Z"
    },
    "id": "A9gBjG6V-4KK"
   },
   "outputs": [],
   "source": [
    "nlp = spacy.load(\"en_core_web_sm\")\n",
    "from nltk.corpus import stopwords\n",
    "from nltk.tokenize import sent_tokenize, word_tokenize\n",
    "import string\n",
    "from nltk.stem import WordNetLemmatizer\n",
    "from nltk.corpus import wordnet\n",
    "lemmatizer = WordNetLemmatizer()\n",
    "def preprocess(doc, lemmatized=True, pos_tag = False, remove_stopword=True, lower_case = True, remove_punctuation = True):\n",
    "   \n",
    "    sents, tokenized_sents = None, None\n",
    "    \n",
    "    # add your code here\n",
    "    tokenized_sents = []\n",
    "    doc = doc.replace('\\n\\n','. ')\n",
    "    \n",
    "    sents = sent_tokenize(doc)\n",
    "    stop_words = set(stopwords.words(\"english\"))\n",
    "    s=set(string.punctuation)\n",
    "    for s in sents:\n",
    "        \n",
    "        temp = word_tokenize(s)\n",
    "        \n",
    "        if lower_case == True:\n",
    "            temp = [x.lower() for x in temp]\n",
    "            \n",
    "        if remove_punctuation == True:\n",
    "            temp = [x for x in temp if x not in string.punctuation]\n",
    "        \n",
    "        if remove_stopword == True:\n",
    "            temp = [x for x in temp if x not in stop_words]\n",
    "        \n",
    "        check_pos = [(x, nlp(x)[0].pos_) for x in temp]\n",
    "        pos_lemma = []\n",
    "        for x in enumerate(check_pos):\n",
    "            if x[1][1] in ['ADJ']:\n",
    "                pos_lemma.append((x[1][0], wordnet.ADJ))\n",
    "            elif x[1][1] in ['VERB']:\n",
    "                pos_lemma.append((x[1][0], wordnet.VERB))\n",
    "            elif x[1][1] in ['ADV']:\n",
    "                pos_lemma.append((x[1][0], wordnet.ADV))\n",
    "            else:\n",
    "                pos_lemma.append((x[1][0], wordnet.NOUN))\n",
    "                \n",
    "        if lemmatized == True:\n",
    "            temp = [lemmatizer.lemmatize(x[0], x[1]) for x in pos_lemma]\n",
    "  \n",
    "        if pos_tag == True:\n",
    "            temp = [(x, nlp(x)[0].pos_) for x in temp]\n",
    "    \n",
    "        tokenized_sents.append(temp)\n",
    "    \n",
    "    return sents, tokenized_sents"
   ]
  },
  {
   "cell_type": "code",
   "execution_count": 65,
   "metadata": {
    "ExecuteTime": {
     "end_time": "2021-10-19T07:27:54.566108Z",
     "start_time": "2021-10-19T07:27:54.558107Z"
    },
    "colab": {
     "base_uri": "https://localhost:8080/"
    },
    "id": "kenx0JgK-4KL",
    "outputId": "309988ea-efde-4cd6-ed0b-45ad8a566b26"
   },
   "outputs": [],
   "source": [
    "# load test document\n",
    "\n",
    "text = open(\"power_of_nlp.txt\", \"r\", encoding='utf-8').read()"
   ]
  },
  {
   "cell_type": "code",
   "execution_count": 66,
   "metadata": {
    "ExecuteTime": {
     "end_time": "2021-10-19T07:27:56.835401Z",
     "start_time": "2021-10-19T07:27:54.568105Z"
    },
    "colab": {
     "base_uri": "https://localhost:8080/"
    },
    "id": "drwiHlEb-4KL",
    "outputId": "fe258009-9ff4-43c4-eb71-1a2876e6084d"
   },
   "outputs": [
    {
     "name": "stdout",
     "output_type": "stream",
     "text": [
      "The Power of Natural Language Processing. \n",
      " ['power', 'natural', 'language', 'processing'] \n",
      "\n",
      "\n",
      "Until recently, the conventional wisdom was that while AI was better than humans at data-driven decision making tasks, it was still inferior to humans for cognitive and creative ones. \n",
      " ['recently', 'conventional', 'wisdom', 'ai', 'good', 'human', 'data-driven', 'decision', 'make', 'task', 'still', 'inferior', 'human', 'cognitive', 'creative', 'one'] \n",
      "\n",
      "\n",
      "But in the past two years language-based AI has advanced by leaps and bounds, changing common notions of what this technology can do.. . \n",
      " ['past', 'two', 'year', 'language-based', 'ai', 'advance', 'leap', 'bound', 'change', 'common', 'notion', 'technology', '..'] \n",
      "\n",
      "\n"
     ]
    }
   ],
   "source": [
    "# test with all default options:\n",
    "\n",
    "sents, tokenized_sents = preprocess(text)\n",
    "\n",
    "# print first 3 sentences\n",
    "for i in range(3):\n",
    "    print(sents[i], \"\\n\",tokenized_sents[i],\"\\n\\n\" )"
   ]
  },
  {
   "cell_type": "code",
   "execution_count": 67,
   "metadata": {},
   "outputs": [
    {
     "name": "stdout",
     "output_type": "stream",
     "text": [
      "The Power of Natural Language Processing. \n",
      " [('The', 'PRON'), ('Power', 'NOUN'), ('of', 'ADP'), ('Natural', 'ADJ'), ('Language', 'NOUN'), ('Processing', 'NOUN'), ('.', 'PUNCT')] \n",
      "\n",
      "\n",
      "Until recently, the conventional wisdom was that while AI was better than humans at data-driven decision making tasks, it was still inferior to humans for cognitive and creative ones. \n",
      " [('Until', 'ADP'), ('recently', 'ADV'), (',', 'PUNCT'), ('the', 'PRON'), ('conventional', 'ADJ'), ('wisdom', 'NOUN'), ('was', 'AUX'), ('that', 'PRON'), ('while', 'SCONJ'), ('AI', 'PROPN'), ('was', 'AUX'), ('better', 'ADJ'), ('than', 'ADP'), ('humans', 'NOUN'), ('at', 'ADP'), ('data-driven', 'NOUN'), ('decision', 'NOUN'), ('making', 'VERB'), ('tasks', 'NOUN'), (',', 'PUNCT'), ('it', 'PRON'), ('was', 'AUX'), ('still', 'ADV'), ('inferior', 'ADJ'), ('to', 'PART'), ('humans', 'NOUN'), ('for', 'ADP'), ('cognitive', 'ADJ'), ('and', 'CCONJ'), ('creative', 'ADJ'), ('ones', 'NOUN'), ('.', 'PUNCT')] \n",
      "\n",
      "\n",
      "But in the past two years language-based AI has advanced by leaps and bounds, changing common notions of what this technology can do.. . \n",
      " [('But', 'CCONJ'), ('in', 'ADP'), ('the', 'PRON'), ('past', 'ADJ'), ('two', 'NUM'), ('years', 'NOUN'), ('language-based', 'NOUN'), ('AI', 'PROPN'), ('has', 'VERB'), ('advanced', 'VERB'), ('by', 'ADP'), ('leaps', 'NOUN'), ('and', 'CCONJ'), ('bounds', 'VERB'), (',', 'PUNCT'), ('changing', 'VERB'), ('common', 'ADJ'), ('notions', 'NOUN'), ('of', 'ADP'), ('what', 'PRON'), ('this', 'PRON'), ('technology', 'NOUN'), ('can', 'AUX'), ('do', 'VERB'), ('..', 'PUNCT'), ('.', 'PUNCT')] \n",
      "\n",
      "\n"
     ]
    }
   ],
   "source": [
    "# process text without remove stopwords, punctuation, lowercase, but with pos tagging\n",
    "\n",
    "sents, tokenized_sents = preprocess(text, lemmatized = False, pos_tag = True, \n",
    "                                    remove_stopword=False, remove_punctuation = False, \n",
    "                                    lower_case = False)\n",
    "\n",
    "for i in range(3):\n",
    "    print(sents[i], \"\\n\",tokenized_sents[i],\"\\n\\n\" )"
   ]
  },
  {
   "cell_type": "markdown",
   "metadata": {},
   "source": [
    "### Q2.2. Quantify sentence concreteness\n",
    "\n",
    "\n",
    "`Concreteness` can increase a message's persuasion. The concreteness can be measured by the use of :\n",
    "- `article` (e.g., a, an, and the), \n",
    "- `adpositions` (e.g., in, at, of, on, etc), and\n",
    "- `quantifiers`, i.e., adjectives before nouns.\n",
    "\n",
    "\n",
    "Define a function `compute_concreteness(tagged_sent)` as follows:\n",
    "- Input argument is `tagged_sent`, a list with (token, pos_tag) tuples as shown above.\n",
    "- Find the three types of tokens: `articles`, `adposition`, and `quantifiers`.\n",
    "- Compute `concereness` score as:  `(the sum of the counts of the three types of tokens)/(total non-punctuation tokens)`.\n",
    "- return the concreteness score, articles, adposition, and quantifiers lists.\n",
    "\n",
    "\n",
    "Find the most concrete and the least concrete sentences from the article. \n",
    "\n",
    "\n",
    "Reference: Peer to Peer Lending: The Relationship Between Language Features, Trustworthiness, and Persuasion Success, https://socialmedialab.sites.stanford.edu/sites/g/files/sbiybj22976/files/media/file/larrimore-jacr-peer-to-peer.pdf"
   ]
  },
  {
   "cell_type": "code",
   "execution_count": 68,
   "metadata": {},
   "outputs": [],
   "source": [
    "def compute_concreteness(tagged_sent):\n",
    "    \n",
    "    concreteness, articles, adpositions,quantifier = None, None, None, []\n",
    "    \n",
    "    # add your code here\n",
    "    articles=[ x for x in tagged_sent \\\n",
    "         if x[0].lower() == 'a' or x[0].lower() == 'an' or x[0].lower() == 'the']\n",
    "    \n",
    "    adpositions=[ x for x in tagged_sent \\\n",
    "         if x[1].startswith('ADP') ]\n",
    "    \n",
    "    for x in range(len(tagged_sent)):\n",
    "        if x<len(tagged_sent) and tagged_sent[x][1] == 'ADJ' and tagged_sent[x+1][1] == 'NOUN':\n",
    "            quantifier.append(tagged_sent[x])\n",
    "            \n",
    "    non_puncts = [x for x in tagged_sent \\\n",
    "                 if x[1]!='PUNCT']\n",
    "    number_non_puncts = len(non_puncts)\n",
    "    \n",
    "    concreteness = (len(adpositions) + len(articles) + len(quantifier)) / number_non_puncts\n",
    "    \n",
    "    return concreteness, articles, adpositions,quantifier"
   ]
  },
  {
   "cell_type": "code",
   "execution_count": 69,
   "metadata": {},
   "outputs": [],
   "source": [
    "# tokenize with pos tag, without change the text much\n",
    "\n",
    "sents, tokenized_sents = preprocess(text, lemmatized = False, pos_tag = True, \n",
    "                                    remove_stopword=False, remove_punctuation = False, \n",
    "                                    lower_case = False)"
   ]
  },
  {
   "cell_type": "code",
   "execution_count": 70,
   "metadata": {},
   "outputs": [
    {
     "data": {
      "text/plain": [
       "'Until recently, the conventional wisdom was that while AI was better than humans at data-driven decision making tasks, it was still inferior to humans for cognitive and creative ones.'"
      ]
     },
     "execution_count": 70,
     "metadata": {},
     "output_type": "execute_result"
    },
    {
     "data": {
      "text/plain": [
       "(0.2413793103448276,\n",
       " [('the', 'PRON')],\n",
       " [('Until', 'ADP'), ('than', 'ADP'), ('at', 'ADP'), ('for', 'ADP')],\n",
       " [('conventional', 'ADJ'), ('creative', 'ADJ')])"
      ]
     },
     "execution_count": 70,
     "metadata": {},
     "output_type": "execute_result"
    }
   ],
   "source": [
    "# find concreteness score, articles, adpositions, and quantifiers in a sentence\n",
    "\n",
    "idx = 1    # sentence id\n",
    "x = tokenized_sents[idx]\n",
    "concreteness, articles, adpositions,quantifier = compute_concreteness(x)\n",
    "\n",
    "# show sentence\n",
    "sents[idx]\n",
    "# show result\n",
    "concreteness, articles, adpositions,quantifier"
   ]
  },
  {
   "cell_type": "code",
   "execution_count": 71,
   "metadata": {},
   "outputs": [
    {
     "name": "stdout",
     "output_type": "stream",
     "text": [
      "The most concerete sentence:  The Power of Natural Language Processing., 0.500\n",
      "\n",
      "The least concerete sentence:  What NLP Can Do., 0.000\n"
     ]
    }
   ],
   "source": [
    "# Find the most concrete and the least concrete sentences from the article\n",
    "concrete = []\n",
    "# add your code here\n",
    "\n",
    "for x in tokenized_sents:\n",
    "    concreteness, articles, adpositions,quantifier = compute_concreteness(x)\n",
    "    concrete.append(concreteness)\n",
    "max_id = concrete.index(max(concrete))\n",
    "min_id = concrete.index(min(concrete))\n",
    "\n",
    "\n",
    "print (f\"The most concerete sentence:  {sents[max_id]}, {concrete[max_id]:.3f}\\n\")\n",
    "print (f\"The least concerete sentence:  {sents[min_id]}, {concrete[min_id]:.3f}\")"
   ]
  },
  {
   "cell_type": "markdown",
   "metadata": {
    "id": "SFBMtpV7-4KM"
   },
   "source": [
    "### Q2.3. Generate TF-IDF representations for sentences \n",
    "\n",
    "Define a function `compute_tf_idf(sents, use_idf)` as follows: \n",
    "\n",
    "\n",
    "- Take the following two inputs:\n",
    "    - `sents`: tokenized sentences (without pos tagging) returned from Q2.1. These sentences form a corpus for you to calculate `TF-IDF` vectors.\n",
    "    - `use_idf`: if this option is true, return smoothed normalized `TF_IDF` vectors for all sentences; otherwise, just return normalized `TF` vector for each sentence.\n",
    "    \n",
    "    \n",
    "- Calculate `TF-IDF` vectors as shown in the lecture notes (Hint: you can slightly modify code segment 7.5 in NLP Lecture Notes (II) for this task)\n",
    "\n",
    "- Return the `TF-IDF` vectors  if `use_idf` is True.  Return the `TF` vectors if `use_idf` is False."
   ]
  },
  {
   "cell_type": "code",
   "execution_count": 72,
   "metadata": {
    "ExecuteTime": {
     "end_time": "2021-10-19T07:27:56.846403Z",
     "start_time": "2021-10-19T07:27:56.837402Z"
    },
    "id": "pq9vq7uP-4KM"
   },
   "outputs": [],
   "source": [
    "\n",
    "def compute_tf_idf(sents, use_idf = True, min_df = 1):\n",
    "    \n",
    "    tf_idf = None\n",
    "    # add your code here\n",
    "    docs_tokens = {idx: (nltk.FreqDist(sent))\n",
    "                 for idx,sent in enumerate(sents)}\n",
    "    dtm = pd.DataFrame.from_dict(docs_tokens, \\\n",
    "                           orient=\"index\" )\n",
    "    dtm = dtm.fillna(0)\n",
    "    dtm = dtm.sort_index(axis = 0)\n",
    "    \n",
    "    tf = dtm.values\n",
    "    doc_len = tf.sum(axis = 1, keepdims = True)\n",
    "    tf = np.divide(tf, doc_len)\n",
    "    \n",
    "    df = np.where(tf > 0, 1, 0)\n",
    "\n",
    "    smoothed_idf = np.log(np.divide(len(sents) + 1, np.sum(df, axis=0) + 1)) + 1    \n",
    "    smoothed_tf_idf = tf * smoothed_idf\n",
    "          \n",
    "    if use_idf:\n",
    "        return smoothed_tf_idf\n",
    "    else:\n",
    "        return tf\n"
   ]
  },
  {
   "cell_type": "code",
   "execution_count": 73,
   "metadata": {
    "ExecuteTime": {
     "end_time": "2021-10-19T07:27:57.344401Z",
     "start_time": "2021-10-19T07:27:56.848401Z"
    },
    "colab": {
     "base_uri": "https://localhost:8080/"
    },
    "id": "OBOzkpEk-4KN",
    "outputId": "8a38a63c-b55c-44f5-b2bf-a3b3b5a7d4c0"
   },
   "outputs": [
    {
     "data": {
      "text/plain": [
       "(67, 523)"
      ]
     },
     "execution_count": 73,
     "metadata": {},
     "output_type": "execute_result"
    }
   ],
   "source": [
    "# test compute_tf_idf function\n",
    "\n",
    "sents, tokenized_sents = preprocess(text)\n",
    "tf_idf= compute_tf_idf(tokenized_sents, use_idf = True)\n",
    "\n",
    "# show shape of TF-IDF\n",
    "tf_idf.shape"
   ]
  },
  {
   "cell_type": "markdown",
   "metadata": {
    "id": "mEYffajS-4KN"
   },
   "source": [
    "### Q2.4. Identify key sentences as summary \n",
    "\n",
    "The basic idea is that, in a coherence article, all sentences should center around some key ideas. If we can identify a subset of sentences, denoted as $S_{key}$, which precisely capture the key ideas,  then $S_{key}$ can be used as a summary. Moreover, $S_{key}$ should have high similarity to all the other sentences on average, because all sentences are centered around the key ideas contained in $S_{key}$. Therefore, we can identify whether a sentence belongs to $S_{key}$ by its similarity to all the other sentences.\n",
    "\n",
    "\n",
    "Define a function `get_summary(tf_idf, sents, topN = 5)`  as follows:\n",
    "\n",
    "- This function takes three inputs:\n",
    "    - `tf_idf`: the TF-IDF vectors of all the sentences in a document\n",
    "    - `sents`: the original sentences corresponding to the TF-IDF vectors\n",
    "    - `topN`: the top N sentences in the generated summary\n",
    "\n",
    "- Steps:\n",
    "    1. Calculate the cosine similarity for every pair of TF-IDF vectors \n",
    "    1. For each sentence, calculate its average similarity to all the others \n",
    "    1. Select the sentences with the `topN` largest average similarity \n",
    "    1. Print the `topN` sentences index\n",
    "    1. Return these sentences as the summary"
   ]
  },
  {
   "cell_type": "code",
   "execution_count": 74,
   "metadata": {
    "ExecuteTime": {
     "end_time": "2021-10-19T07:29:47.949165Z",
     "start_time": "2021-10-19T07:29:47.945086Z"
    },
    "id": "gDqgTk8c-4KO"
   },
   "outputs": [],
   "source": [
    "def get_summary(tf_idf, sents, topN = 5):\n",
    "    \n",
    "    summary = []\n",
    "    \n",
    "    # add your code here\n",
    "    similarity=1-pairwise_distances(tf_idf, metric = 'cosine')\n",
    "    check = []\n",
    "    for item in similarity:\n",
    "        x = sum(item)/len(item)\n",
    "        check.append(x)\n",
    "    top_idx = np.argsort(check)[-topN:]\n",
    "    top_idx= np.flip(top_idx)\n",
    "    top_values = [check[i] for i in top_idx]\n",
    "    \n",
    "    for i in top_idx:\n",
    "        summary.append(sents[i])\n",
    "\n",
    "    \n",
    "    return summary"
   ]
  },
  {
   "cell_type": "code",
   "execution_count": 75,
   "metadata": {
    "ExecuteTime": {
     "end_time": "2021-10-19T07:29:50.689152Z",
     "start_time": "2021-10-19T07:29:48.264799Z"
    },
    "colab": {
     "base_uri": "https://localhost:8080/"
    },
    "id": "Sw5L48aK-4KO",
    "outputId": "1d5109ef-432f-4cf5-d0b6-46d1b08dc96e"
   },
   "outputs": [
    {
     "name": "stdout",
     "output_type": "stream",
     "text": [
      "This transformative capability was already expected to change the nature of how programmers do their jobs, but models continue to improve — the latest from Google’s DeepMind AI lab, for example, demonstrates the critical thinking and logic skills necessary to outperform most humans in programming competitions.. Models like GPT-3 are considered to be foundation models — an emerging AI research area — which also work for other types of data such as images and video. \n",
      "\n",
      "Elicit is designed for a growing number of specific tasks relevant to research, like summarization, data labeling, rephrasing, brainstorming, and literature reviews.. I’ve found — not surprisingly — that Elicit works better for some tasks than others. \n",
      "\n",
      "There is so much text data, and you don’t need advanced models like GPT-3 to extract its value. \n",
      "\n",
      "These new tools will transcend traditional business intelligence and will transform the nature of many roles in organizations — programmers are just the beginning.. You need to start understanding how these technologies can be used to reorganize your skilled labor. \n",
      "\n",
      "Begin incorporating new language-based AI tools for a variety of tasks to better understand their capabilities.. \n",
      "\n"
     ]
    }
   ],
   "source": [
    "# put everything together and test with different options\n",
    "\n",
    "sents, tokenized_sents = preprocess(text)\n",
    "tf_idf = compute_tf_idf(tokenized_sents, use_idf = True)\n",
    "summary = get_summary(tf_idf, sents, topN = 5)\n",
    "\n",
    "for sent in summary:\n",
    "    print(sent,\"\\n\")"
   ]
  },
  {
   "cell_type": "markdown",
   "metadata": {},
   "source": [
    "## Trying out different metrics for the get_summary function"
   ]
  },
  {
   "cell_type": "markdown",
   "metadata": {},
   "source": [
    "### Metric - cityblock"
   ]
  },
  {
   "cell_type": "code",
   "execution_count": 76,
   "metadata": {},
   "outputs": [],
   "source": [
    "# Please test summary generated under different configurations\n",
    "\n",
    "def get_summary_1(tf_idf, sents, topN = 5):\n",
    "    \n",
    "    summary = []\n",
    "    \n",
    "    # add your code here\n",
    "    similarity=1-pairwise_distances(tf_idf, metric = 'cityblock')\n",
    "    check = []\n",
    "    for item in similarity:\n",
    "        x = sum(item)/len(item)\n",
    "        check.append(x)\n",
    "    top_idx = np.argsort(check)[-topN:]\n",
    "    top_idx= np.flip(top_idx)\n",
    "    top_values = [check[i] for i in top_idx]\n",
    "    \n",
    "    for i in top_idx:\n",
    "        summary.append(sents[i])\n",
    "\n",
    "    \n",
    "    return summary"
   ]
  },
  {
   "cell_type": "code",
   "execution_count": 77,
   "metadata": {},
   "outputs": [
    {
     "name": "stdout",
     "output_type": "stream",
     "text": [
      "There is so much text data, and you don’t need advanced models like GPT-3 to extract its value. \n",
      "\n",
      "Begin incorporating new language-based AI tools for a variety of tasks to better understand their capabilities.. \n",
      "\n",
      "Elicit is designed for a growing number of specific tasks relevant to research, like summarization, data labeling, rephrasing, brainstorming, and literature reviews.. I’ve found — not surprisingly — that Elicit works better for some tasks than others. \n",
      "\n",
      "These new tools will transcend traditional business intelligence and will transform the nature of many roles in organizations — programmers are just the beginning.. You need to start understanding how these technologies can be used to reorganize your skilled labor. \n",
      "\n",
      "Specialized models like this can unlock untold value for your firm.. \n",
      "\n"
     ]
    }
   ],
   "source": [
    "\n",
    "sents, tokenized_sents = preprocess(text)\n",
    "tf_idf = compute_tf_idf(tokenized_sents, use_idf = True)\n",
    "summary = get_summary_1(tf_idf, sents, topN = 5)\n",
    "\n",
    "for sent in summary:\n",
    "    print(sent,\"\\n\")"
   ]
  },
  {
   "cell_type": "markdown",
   "metadata": {},
   "source": [
    "### Metric - euclidean"
   ]
  },
  {
   "cell_type": "code",
   "execution_count": 78,
   "metadata": {},
   "outputs": [],
   "source": [
    "def get_summary_2(tf_idf, sents, topN = 5):\n",
    "    \n",
    "    summary = []\n",
    "    \n",
    "    # add your code here\n",
    "    similarity=1-pairwise_distances(tf_idf, metric = 'euclidean')\n",
    "    check = []\n",
    "    for item in similarity:\n",
    "        x = sum(item)/len(item)\n",
    "        check.append(x)\n",
    "    top_idx = np.argsort(check)[-topN:]\n",
    "    top_idx= np.flip(top_idx)\n",
    "    top_values = [check[i] for i in top_idx]\n",
    "    \n",
    "    for i in top_idx:\n",
    "        summary.append(sents[i])\n",
    "\n",
    "    \n",
    "    return summary"
   ]
  },
  {
   "cell_type": "code",
   "execution_count": 79,
   "metadata": {},
   "outputs": [
    {
     "name": "stdout",
     "output_type": "stream",
     "text": [
      "This transformative capability was already expected to change the nature of how programmers do their jobs, but models continue to improve — the latest from Google’s DeepMind AI lab, for example, demonstrates the critical thinking and logic skills necessary to outperform most humans in programming competitions.. Models like GPT-3 are considered to be foundation models — an emerging AI research area — which also work for other types of data such as images and video. \n",
      "\n",
      "Tasks like data labeling and summarization are still rough around the edges, with noisy results and spotty accuracy, but research from Ought and research from OpenAI shows promise for the future.. For example, the rephrase task is useful for writing, but the lack of integration with word processing apps renders it impractical for now. \n",
      "\n",
      "Elicit is designed for a growing number of specific tasks relevant to research, like summarization, data labeling, rephrasing, brainstorming, and literature reviews.. I’ve found — not surprisingly — that Elicit works better for some tasks than others. \n",
      "\n",
      "Due to their potential to transform the nature of cognitive work, economists expect that foundation models may affect every part of the economy and could lead to increases in economic growth similar to the industrial revolution.. A Language-Based AI Research Assistant. \n",
      "\n",
      "These new tools will transcend traditional business intelligence and will transform the nature of many roles in organizations — programmers are just the beginning.. You need to start understanding how these technologies can be used to reorganize your skilled labor. \n",
      "\n"
     ]
    }
   ],
   "source": [
    "\n",
    "sents, tokenized_sents = preprocess(text)\n",
    "tf_idf = compute_tf_idf(tokenized_sents, use_idf = True)\n",
    "summary = get_summary_2(tf_idf, sents, topN = 5)\n",
    "\n",
    "for sent in summary:\n",
    "    print(sent,\"\\n\")"
   ]
  },
  {
   "cell_type": "markdown",
   "metadata": {},
   "source": [
    "### Metric - L1"
   ]
  },
  {
   "cell_type": "code",
   "execution_count": 80,
   "metadata": {},
   "outputs": [],
   "source": [
    "def get_summary_3(tf_idf, sents, topN = 5):\n",
    "    \n",
    "    summary = []\n",
    "    \n",
    "    # add your code here\n",
    "    similarity=1-pairwise_distances(tf_idf, metric = 'l1')\n",
    "    check = []\n",
    "    for item in similarity:\n",
    "        x = sum(item)/len(item)\n",
    "        check.append(x)\n",
    "    top_idx = np.argsort(check)[-topN:]\n",
    "    top_idx= np.flip(top_idx)\n",
    "    top_values = [check[i] for i in top_idx]\n",
    "    \n",
    "    for i in top_idx:\n",
    "        summary.append(sents[i])\n",
    "\n",
    "    \n",
    "    return summary"
   ]
  },
  {
   "cell_type": "code",
   "execution_count": 81,
   "metadata": {},
   "outputs": [
    {
     "name": "stdout",
     "output_type": "stream",
     "text": [
      "There is so much text data, and you don’t need advanced models like GPT-3 to extract its value. \n",
      "\n",
      "Begin incorporating new language-based AI tools for a variety of tasks to better understand their capabilities.. \n",
      "\n",
      "Elicit is designed for a growing number of specific tasks relevant to research, like summarization, data labeling, rephrasing, brainstorming, and literature reviews.. I’ve found — not surprisingly — that Elicit works better for some tasks than others. \n",
      "\n",
      "These new tools will transcend traditional business intelligence and will transform the nature of many roles in organizations — programmers are just the beginning.. You need to start understanding how these technologies can be used to reorganize your skilled labor. \n",
      "\n",
      "Specialized models like this can unlock untold value for your firm.. \n",
      "\n"
     ]
    }
   ],
   "source": [
    "\n",
    "sents, tokenized_sents = preprocess(text)\n",
    "tf_idf = compute_tf_idf(tokenized_sents, use_idf = True)\n",
    "summary = get_summary_3(tf_idf, sents, topN = 5)\n",
    "\n",
    "for sent in summary:\n",
    "    print(sent,\"\\n\")"
   ]
  },
  {
   "cell_type": "markdown",
   "metadata": {},
   "source": [
    "### Metric - L2"
   ]
  },
  {
   "cell_type": "code",
   "execution_count": 82,
   "metadata": {},
   "outputs": [],
   "source": [
    "def get_summary_4(tf_idf, sents, topN = 5):\n",
    "    \n",
    "    summary = []\n",
    "    \n",
    "    # add your code here\n",
    "    similarity=1-pairwise_distances(tf_idf, metric = 'l2')\n",
    "    check = []\n",
    "    for item in similarity:\n",
    "        x = sum(item)/len(item)\n",
    "        check.append(x)\n",
    "    top_idx = np.argsort(check)[-topN:]\n",
    "    top_idx= np.flip(top_idx)\n",
    "    top_values = [check[i] for i in top_idx]\n",
    "    \n",
    "    for i in top_idx:\n",
    "        summary.append(sents[i])\n",
    "\n",
    "    \n",
    "    return summary"
   ]
  },
  {
   "cell_type": "code",
   "execution_count": 83,
   "metadata": {},
   "outputs": [
    {
     "name": "stdout",
     "output_type": "stream",
     "text": [
      "This transformative capability was already expected to change the nature of how programmers do their jobs, but models continue to improve — the latest from Google’s DeepMind AI lab, for example, demonstrates the critical thinking and logic skills necessary to outperform most humans in programming competitions.. Models like GPT-3 are considered to be foundation models — an emerging AI research area — which also work for other types of data such as images and video. \n",
      "\n",
      "Tasks like data labeling and summarization are still rough around the edges, with noisy results and spotty accuracy, but research from Ought and research from OpenAI shows promise for the future.. For example, the rephrase task is useful for writing, but the lack of integration with word processing apps renders it impractical for now. \n",
      "\n",
      "Elicit is designed for a growing number of specific tasks relevant to research, like summarization, data labeling, rephrasing, brainstorming, and literature reviews.. I’ve found — not surprisingly — that Elicit works better for some tasks than others. \n",
      "\n",
      "Due to their potential to transform the nature of cognitive work, economists expect that foundation models may affect every part of the economy and could lead to increases in economic growth similar to the industrial revolution.. A Language-Based AI Research Assistant. \n",
      "\n",
      "These new tools will transcend traditional business intelligence and will transform the nature of many roles in organizations — programmers are just the beginning.. You need to start understanding how these technologies can be used to reorganize your skilled labor. \n",
      "\n"
     ]
    }
   ],
   "source": [
    "\n",
    "sents, tokenized_sents = preprocess(text)\n",
    "tf_idf = compute_tf_idf(tokenized_sents, use_idf = True)\n",
    "summary = get_summary_4(tf_idf, sents, topN = 5)\n",
    "\n",
    "for sent in summary:\n",
    "    print(sent,\"\\n\")"
   ]
  },
  {
   "cell_type": "markdown",
   "metadata": {},
   "source": [
    "###  Metric - Manhattan"
   ]
  },
  {
   "cell_type": "code",
   "execution_count": 84,
   "metadata": {},
   "outputs": [],
   "source": [
    "def get_summary_5(tf_idf, sents, topN = 5):\n",
    "    \n",
    "    summary = []\n",
    "    \n",
    "    # add your code here\n",
    "    similarity=1-pairwise_distances(tf_idf, metric = 'manhattan')\n",
    "    check = []\n",
    "    for item in similarity:\n",
    "        x = sum(item)/len(item)\n",
    "        check.append(x)\n",
    "    top_idx = np.argsort(check)[-topN:]\n",
    "    top_idx= np.flip(top_idx)\n",
    "    top_values = [check[i] for i in top_idx]\n",
    "    \n",
    "    for i in top_idx:\n",
    "        summary.append(sents[i])\n",
    "\n",
    "    \n",
    "    return summary"
   ]
  },
  {
   "cell_type": "code",
   "execution_count": 85,
   "metadata": {},
   "outputs": [
    {
     "name": "stdout",
     "output_type": "stream",
     "text": [
      "There is so much text data, and you don’t need advanced models like GPT-3 to extract its value. \n",
      "\n",
      "Begin incorporating new language-based AI tools for a variety of tasks to better understand their capabilities.. \n",
      "\n",
      "Elicit is designed for a growing number of specific tasks relevant to research, like summarization, data labeling, rephrasing, brainstorming, and literature reviews.. I’ve found — not surprisingly — that Elicit works better for some tasks than others. \n",
      "\n",
      "These new tools will transcend traditional business intelligence and will transform the nature of many roles in organizations — programmers are just the beginning.. You need to start understanding how these technologies can be used to reorganize your skilled labor. \n",
      "\n",
      "Specialized models like this can unlock untold value for your firm.. \n",
      "\n"
     ]
    }
   ],
   "source": [
    "\n",
    "sents, tokenized_sents = preprocess(text)\n",
    "tf_idf = compute_tf_idf(tokenized_sents, use_idf = True)\n",
    "summary = get_summary_5(tf_idf, sents, topN = 5)\n",
    "\n",
    "for sent in summary:\n",
    "    print(sent,\"\\n\")"
   ]
  },
  {
   "cell_type": "markdown",
   "metadata": {
    "id": "4l0bXLQG-4KO"
   },
   "source": [
    "### Q2.5. Analysis \n",
    "\n",
    "- Do you think the way to quantify concreteness makes sense? Any other thoughts to measure concreteness or abstractness? Share your ideas in pdf.\n",
    "\n",
    "\n",
    "- Do you think this method is able to generate a good summary? Any pros or cons have you observed? \n",
    "\n",
    "\n",
    "- Do these options `lemmatized, remove_stopword, remove_punctuation, use_idf` matter? \n",
    "- Why do you think these options matter or do not matter? \n",
    "- If these options matter, what are the best values for these options?\n",
    "\n",
    "\n",
    "Write your analysis as a pdf file. Be sure to provide some evidence from the output of each step to support your arguments."
   ]
  },
  {
   "cell_type": "markdown",
   "metadata": {
    "id": "ZIyY8lIr-4KP"
   },
   "source": [
    "### Q2.5. (Bonus 3 points). \n",
    "\n",
    "\n",
    "- Can you think a way to improve this extractive summary method? Explain the method you propose for improvement,  implement it, use it to generate a new summary, and demonstrate what is improved in the new summary.\n",
    "\n",
    "\n",
    "- Or, you can research on some other extractive summary methods and implement one here. Compare it with the one you implemented in Q2.1-Q2.3 and show pros and cons of each method."
   ]
  },
  {
   "cell_type": "code",
   "execution_count": 86,
   "metadata": {},
   "outputs": [],
   "source": [
    "def get_summary_6(tf_idf, sents, topN = 5):\n",
    "    \n",
    "    summary = []\n",
    "    \n",
    "    # add your code here\n",
    "    similarity=1-pairwise_distances(tf_idf, metric = 'jaccard')\n",
    "    check = []\n",
    "    for item in similarity:\n",
    "        x = sum(item)/len(item)\n",
    "        check.append(x)\n",
    "    top_idx = np.argsort(check)[-topN:]\n",
    "    top_idx= np.flip(top_idx)\n",
    "    top_values = [check[i] for i in top_idx]\n",
    "    \n",
    "    for i in top_idx:\n",
    "        summary.append(sents[i])\n",
    "\n",
    "    \n",
    "    return summary"
   ]
  },
  {
   "cell_type": "code",
   "execution_count": 87,
   "metadata": {},
   "outputs": [
    {
     "name": "stdout",
     "output_type": "stream",
     "text": [
      "Begin incorporating new language-based AI tools for a variety of tasks to better understand their capabilities.. \n",
      "\n",
      "Elicit is designed for a growing number of specific tasks relevant to research, like summarization, data labeling, rephrasing, brainstorming, and literature reviews.. I’ve found — not surprisingly — that Elicit works better for some tasks than others. \n",
      "\n",
      "There is so much text data, and you don’t need advanced models like GPT-3 to extract its value. \n",
      "\n",
      "Understand how you might leverage AI-based language technologies to make better decisions or reorganize your skilled labor.. Language-based AI won’t replace jobs, but it will automate many tasks, even for decision makers. \n",
      "\n",
      "Remember that while current AI might not be poised to replace managers, managers who understand AI are poised to replace managers who don’t.. Do not underestimate the transformative potential of AI.. Large foundation models like GPT-3 exhibit abilities to generalize to a large number of tasks without any task-specific training. \n",
      "\n"
     ]
    },
    {
     "name": "stderr",
     "output_type": "stream",
     "text": [
      "C:\\Users\\siddh\\anaconda3\\lib\\site-packages\\sklearn\\metrics\\pairwise.py:1875: DataConversionWarning: Data was converted to boolean for metric jaccard\n",
      "  warnings.warn(msg, DataConversionWarning)\n"
     ]
    }
   ],
   "source": [
    "\n",
    "sents, tokenized_sents = preprocess(text)\n",
    "tf_idf = compute_tf_idf(tokenized_sents, use_idf = True)\n",
    "summary = get_summary_6(tf_idf, sents, topN = 5)\n",
    "\n",
    "for sent in summary:\n",
    "    print(sent,\"\\n\")"
   ]
  },
  {
   "cell_type": "markdown",
   "metadata": {},
   "source": [
    "## Main block to test all functions"
   ]
  },
  {
   "cell_type": "code",
   "execution_count": 88,
   "metadata": {
    "ExecuteTime": {
     "end_time": "2021-10-19T07:29:53.023232Z",
     "start_time": "2021-10-19T07:29:50.691147Z"
    },
    "colab": {
     "base_uri": "https://localhost:8080/"
    },
    "id": "MEVWwkRW-4KP",
    "outputId": "cf1d3b08-f8e9-4332-b0ee-2d43b01ecfac",
    "scrolled": true
   },
   "outputs": [
    {
     "name": "stdout",
     "output_type": "stream",
     "text": [
      "\n",
      "==================\n",
      "\n",
      "Test Q1\n",
      "  Ticker                        Name  \\\n",
      "0    QQQ  Invesco QQQ Trust Series 1   \n",
      "1   AAPL                   Apple Inc   \n",
      "2   TSLA                   Tesla Inc   \n",
      "3   AMZN            Amazon.com, Inc.   \n",
      "\n",
      "                                             Article  \\\n",
      "0  Invesco Expands QQQ Innovation Suite to Includ...   \n",
      "1  Estimating The Fair Value Of Apple Inc. (NASDA...   \n",
      "2  Could This Tesla Stock Unbalanced Iron Condor ...   \n",
      "3  The Regulators of Facebook, Google and Amazon ...   \n",
      "\n",
      "                        Media         Time    Price Change  \n",
      "0                PR Newswire   4 hours ago  $265.62  1.13%  \n",
      "1              Yahoo Finance   4 hours ago  $140.41  1.50%  \n",
      "2  Investor's Business Daily    1 hour ago  $218.30  0.49%  \n",
      "3        Wall Street Journal    2 days ago  $110.91  1.76%  \n",
      "\n",
      "==================\n",
      "\n",
      "Test Q2.1\n"
     ]
    },
    {
     "data": {
      "text/plain": [
       "'Until recently, the conventional wisdom was that while AI was better than humans at data-driven decision making tasks, it was still inferior to humans for cognitive and creative ones.'"
      ]
     },
     "execution_count": 88,
     "metadata": {},
     "output_type": "execute_result"
    },
    {
     "data": {
      "text/plain": [
       "(0.2413793103448276,\n",
       " [('the', 'PRON')],\n",
       " [('Until', 'ADP'), ('than', 'ADP'), ('at', 'ADP'), ('for', 'ADP')],\n",
       " [('conventional', 'ADJ'), ('creative', 'ADJ')])"
      ]
     },
     "execution_count": 88,
     "metadata": {},
     "output_type": "execute_result"
    },
    {
     "name": "stdout",
     "output_type": "stream",
     "text": [
      "\n",
      "==================\n",
      "\n",
      "Test Q2.2-2.4\n",
      "['This transformative capability was already expected to change the nature of how programmers do their jobs, but models continue to improve — the latest from Google’s DeepMind AI lab, for example, demonstrates the critical thinking and logic skills necessary to outperform most humans in programming competitions.. Models like GPT-3 are considered to be foundation models — an emerging AI research area — which also work for other types of data such as images and video.', 'Elicit is designed for a growing number of specific tasks relevant to research, like summarization, data labeling, rephrasing, brainstorming, and literature reviews.. I’ve found — not surprisingly — that Elicit works better for some tasks than others.', 'There is so much text data, and you don’t need advanced models like GPT-3 to extract its value.', 'These new tools will transcend traditional business intelligence and will transform the nature of many roles in organizations — programmers are just the beginning.. You need to start understanding how these technologies can be used to reorganize your skilled labor.', 'Begin incorporating new language-based AI tools for a variety of tasks to better understand their capabilities..']\n"
     ]
    }
   ],
   "source": [
    "if __name__ == \"__main__\":  \n",
    "    \n",
    "    \n",
    "    text=text = '''QQQ\n",
    "Invesco QQQ Trust Series 1\n",
    "Invesco Expands QQQ Innovation Suite to Include Small-Cap ETF\n",
    "PR Newswire • 4 hours ago\n",
    "$265.62\n",
    "1.13%\n",
    "add_circle_outline\n",
    "AAPL\n",
    "Apple Inc\n",
    "Estimating The Fair Value Of Apple Inc. (NASDAQ:AAPL)\n",
    "Yahoo Finance • 4 hours ago\n",
    "$140.41\n",
    "1.50%\n",
    "add_circle_outline\n",
    "TSLA\n",
    "Tesla Inc\n",
    "Could This Tesla Stock Unbalanced Iron Condor Return 23%?\n",
    "Investor's Business Daily • 1 hour ago\n",
    "$218.30\n",
    "0.49%\n",
    "add_circle_outline\n",
    "AMZN\n",
    "Amazon.com, Inc.\n",
    "The Regulators of Facebook, Google and Amazon Also Invest in the Companies' Stocks\n",
    "Wall Street Journal • 2 days ago\n",
    "$110.91\n",
    "1.76%\n",
    "add_circle_outline'''\n",
    "    \n",
    "    \n",
    "    print(\"\\n==================\\n\")\n",
    "    print(\"Test Q1\")\n",
    "    print(extract(text))\n",
    "    \n",
    "    print(\"\\n==================\\n\")\n",
    "    print(\"Test Q2.1\")\n",
    "    \n",
    "    text = open(\"power_of_nlp.txt\", \"r\", encoding='utf-8').read()\n",
    "    \n",
    "    sents, tokenized_sents = preprocess(text, lemmatized = False, pos_tag = True, \n",
    "                                    remove_stopword=False, remove_punctuation = False, \n",
    "                                    lower_case = False)\n",
    "    \n",
    "    idx = 1    # sentence id\n",
    "    x = tokenized_sents[idx]\n",
    "    concreteness, articles, adpositions,quantifier = compute_concreteness(x)\n",
    "\n",
    "    # show sentence\n",
    "    sents[idx]\n",
    "    # show result\n",
    "    concreteness, articles, adpositions,quantifier\n",
    "    \n",
    "    print(\"\\n==================\\n\")\n",
    "    print(\"Test Q2.2-2.4\")\n",
    "    sents, tokenized_sents = preprocess(text)\n",
    "    tf_idf = compute_tf_idf(tokenized_sents, use_idf = True)\n",
    "    summary = get_summary(tf_idf, sents, topN = 5)\n",
    "    print(summary)\n"
   ]
  },
  {
   "cell_type": "code",
   "execution_count": null,
   "metadata": {
    "id": "CfAaubgh-4KP"
   },
   "outputs": [],
   "source": []
  }
 ],
 "metadata": {
  "colab": {
   "collapsed_sections": [],
   "name": "HW_4.ipynb",
   "provenance": []
  },
  "kernelspec": {
   "display_name": "Python 3 (ipykernel)",
   "language": "python",
   "name": "python3"
  },
  "language_info": {
   "codemirror_mode": {
    "name": "ipython",
    "version": 3
   },
   "file_extension": ".py",
   "mimetype": "text/x-python",
   "name": "python",
   "nbconvert_exporter": "python",
   "pygments_lexer": "ipython3",
   "version": "3.9.12"
  },
  "latex_envs": {
   "LaTeX_envs_menu_present": true,
   "autoclose": false,
   "autocomplete": true,
   "bibliofile": "biblio.bib",
   "cite_by": "apalike",
   "current_citInitial": 1,
   "eqLabelWithNumbers": true,
   "eqNumInitial": 1,
   "hotkeys": {
    "equation": "Ctrl-E",
    "itemize": "Ctrl-I"
   },
   "labels_anchors": false,
   "latex_user_defs": false,
   "report_style_numbering": false,
   "user_envs_cfg": false
  },
  "toc": {
   "base_numbering": 1,
   "nav_menu": {},
   "number_sections": true,
   "sideBar": true,
   "skip_h1_title": false,
   "title_cell": "Table of Contents",
   "title_sidebar": "Contents",
   "toc_cell": true,
   "toc_position": {},
   "toc_section_display": true,
   "toc_window_display": false
  }
 },
 "nbformat": 4,
 "nbformat_minor": 4
}
