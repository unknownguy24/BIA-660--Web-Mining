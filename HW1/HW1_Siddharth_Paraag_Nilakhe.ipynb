{
 "cells": [
  {
   "cell_type": "markdown",
   "metadata": {},
   "source": [
    "# <center>HW 1: Document Term Matrix</center>"
   ]
  },
  {
   "cell_type": "markdown",
   "metadata": {},
   "source": [
    "<div class=\"alert alert-block alert-warning\">Each assignment needs to be completed independently. Never ever copy others' work (even with minor modification, e.g. changing variable names). Anti-Plagiarism software will be used to check all submissions. </div>"
   ]
  },
  {
   "cell_type": "markdown",
   "metadata": {},
   "source": [
    "**Instructions**: \n",
    "- Please read the problem description carefully\n",
    "- Make sure to complete all requirements (shown as bullets) . In general, it would be much easier if you complete the requirements in the order as shown in the problem description\n",
    "- Follow the Submission Instruction to submit your assignment"
   ]
  },
  {
   "cell_type": "markdown",
   "metadata": {},
   "source": [
    "**Problem Description**\n",
    "\n",
    "In this assignment, you'll write a class and functions to analyze an article to find out the word distributions and key concepts. \n",
    "\n",
    "The packages you'll need for this assignment include numpy and pandas. Some useful functions: \n",
    "- string: `split`,`strip`, `count`,`index`\n",
    "- numpy: `argsort`,`argmax`, `sum`, `where`"
   ]
  },
  {
   "cell_type": "markdown",
   "metadata": {},
   "source": [
    "## Q1. Define a function to analyze word counts in an input sentence \n",
    "\n",
    "\n",
    "Define a function named `tokenize(text)` which does the following:\n",
    "* accepts a sentence (i.e., `text` parameter) as an input\n",
    "* splits the sentence into a list of tokens by **space** (including tab, and new line). \n",
    "    - e.g., `it's a hello world!!!` will be split into tokens `[\"it's\", \"a\",\"hello\",\"world!!!\"]`  \n",
    "* removes the **leading/trailing punctuations or spaces** of each token, if any\n",
    "    - e.g., `world!!! -> world`, while `it's` does not change\n",
    "    - hint, you can import module *string*, use `string.punctuation` to get a list of punctuations (say `puncts`), and then use function `strip(puncts)` to remove leading or trailing punctuations in each token\n",
    "* only keeps tokens with 2 or more characters, i.e. `len(token)>1` \n",
    "* converts all tokens into lower case \n",
    "* find the count of each unique token and save the counts as dictionary, i.e., `{world: 1, a: 1, ...}`\n",
    "* returns the dictionary \n",
    "    "
   ]
  },
  {
   "cell_type": "code",
   "execution_count": 1,
   "metadata": {},
   "outputs": [],
   "source": [
    "import string\n",
    "import pandas as pd\n",
    "import numpy as np\n",
    "from scipy.sparse import csr_matrix\n",
    "from IPython.core.interactiveshell import InteractiveShell\n",
    "InteractiveShell.ast_node_interactivity = \"all\""
   ]
  },
  {
   "cell_type": "code",
   "execution_count": 2,
   "metadata": {},
   "outputs": [],
   "source": [
    "def tokenize(text):\n",
    "    \n",
    "    vocab = {}\n",
    "    \n",
    "    puncts = '!\"#$%&\\()*+,-./:;<=>?@[\\\\]^_`{|}~'\n",
    "    \n",
    "    text = text.lower()\n",
    "    \n",
    "    for x in text:\n",
    "        if x in puncts:\n",
    "            text = text.replace(x, \"\")\n",
    "\n",
    "    sid = text.split()\n",
    "    \n",
    "    for x in sid:\n",
    "        length = len(x)\n",
    "        if length < 2:\n",
    "            sid.remove(x)\n",
    "    \n",
    "    for y in sid:\n",
    "        c = sid.count(y)\n",
    "        vocab[y] = c\n",
    "    \n",
    "    return vocab\n"
   ]
  },
  {
   "cell_type": "code",
   "execution_count": 3,
   "metadata": {},
   "outputs": [
    {
     "data": {
      "text/plain": [
       "{\"it's\": 1, 'hello': 2, 'world': 2, 'it': 1, 'is': 1, 'again': 1}"
      ]
     },
     "execution_count": 3,
     "metadata": {},
     "output_type": "execute_result"
    }
   ],
   "source": [
    "# test your code\n",
    "text = \"\"\"it's a hello world!!!\n",
    "           it is hello world again.\"\"\"\n",
    "tokenize(text)"
   ]
  },
  {
   "cell_type": "markdown",
   "metadata": {},
   "source": [
    "## Q2. Generate a document term matrix (DTM) as a numpy array\n",
    "\n",
    "\n",
    "Define a function `get_dtm(sents)` as follows:\n",
    "- accepts a list of sentences, i.e., `sents`, as an input\n",
    "- uses `tokenize` function you defined in Q1 to get the count dictionary for each sentence\n",
    "- pools the words from all the strings togehter to get a list of  unique words, denoted as `unique_words`\n",
    "- creates a numpy array, say `dtm` with a shape (# of docs x # of unique words), and set the initial values to 0.\n",
    "- fills cell `dtm[i,j]` with the count of the `j`th word in the `i`th sentence\n",
    "- returns `dtm` and `unique_words`"
   ]
  },
  {
   "cell_type": "code",
   "execution_count": 4,
   "metadata": {},
   "outputs": [],
   "source": [
    "def get_dtm(sents):\n",
    "    \n",
    "    dtm, all_words = None, None\n",
    "    \n",
    "    words_series = pd.Series([],dtype='object')\n",
    "    \n",
    "    for x in sents:\n",
    "        done = tokenize(x)\n",
    "        df_done = pd.Series([done])\n",
    "        words_series = pd.concat([words_series,df_done],ignore_index=True)\n",
    "    \n",
    "    temp = sents.str.cat(sep=\" \")  \n",
    "    all_words = list(tokenize(temp).keys())\n",
    "    \n",
    "    dtm = np.zeros((len(words_series), len(all_words)))\n",
    "    \n",
    "    for i in enumerate(words_series):\n",
    "        for j in enumerate(all_words):\n",
    "            if(j[-1] in words_series[i[0]]):\n",
    "                dtm[i[0],j[0]] += words_series[i[0]][j[-1]]\n",
    "                \n",
    "                \n",
    "        \n",
    "    return dtm , all_words"
   ]
  },
  {
   "cell_type": "code",
   "execution_count": 5,
   "metadata": {},
   "outputs": [
    {
     "data": {
      "text/html": [
       "<div>\n",
       "<style scoped>\n",
       "    .dataframe tbody tr th:only-of-type {\n",
       "        vertical-align: middle;\n",
       "    }\n",
       "\n",
       "    .dataframe tbody tr th {\n",
       "        vertical-align: top;\n",
       "    }\n",
       "\n",
       "    .dataframe thead th {\n",
       "        text-align: right;\n",
       "    }\n",
       "</style>\n",
       "<table border=\"1\" class=\"dataframe\">\n",
       "  <thead>\n",
       "    <tr style=\"text-align: right;\">\n",
       "      <th></th>\n",
       "      <th>text</th>\n",
       "    </tr>\n",
       "  </thead>\n",
       "  <tbody>\n",
       "    <tr>\n",
       "      <th>0</th>\n",
       "      <td>The Power of Natural Language Processing</td>\n",
       "    </tr>\n",
       "    <tr>\n",
       "      <th>1</th>\n",
       "      <td>Until recently, the conventional wisdom was th...</td>\n",
       "    </tr>\n",
       "    <tr>\n",
       "      <th>2</th>\n",
       "      <td>But in the past two years language-based AI ha...</td>\n",
       "    </tr>\n",
       "    <tr>\n",
       "      <th>3</th>\n",
       "      <td>The most visible advances have been in what’s ...</td>\n",
       "    </tr>\n",
       "    <tr>\n",
       "      <th>4</th>\n",
       "      <td>It has been used to write an article for The G...</td>\n",
       "    </tr>\n",
       "  </tbody>\n",
       "</table>\n",
       "</div>"
      ],
      "text/plain": [
       "                                                text\n",
       "0           The Power of Natural Language Processing\n",
       "1  Until recently, the conventional wisdom was th...\n",
       "2  But in the past two years language-based AI ha...\n",
       "3  The most visible advances have been in what’s ...\n",
       "4  It has been used to write an article for The G..."
      ]
     },
     "execution_count": 5,
     "metadata": {},
     "output_type": "execute_result"
    }
   ],
   "source": [
    "# A test document. This document can be found at https://hbr.org/2022/04/the-power-of-natural-language-processing getnnz()\n",
    "\n",
    "sents = pd.read_csv(\"sents.csv\")\n",
    "sents.head()"
   ]
  },
  {
   "cell_type": "code",
   "execution_count": 6,
   "metadata": {},
   "outputs": [
    {
     "data": {
      "text/plain": [
       "(81, 678)"
      ]
     },
     "execution_count": 6,
     "metadata": {},
     "output_type": "execute_result"
    },
    {
     "name": "stdout",
     "output_type": "stream",
     "text": [
      "[('advances', 1), ('ai', 1), ('been', 1), ('branch', 1), ('called', 1), ('can', 1), ('computers', 1), ('do', 1), ('focused', 1), ('have', 1), ('how', 1), ('humans', 1), ('in', 1), ('language', 2), ('like', 1), ('most', 1), ('nlp', 1), ('of', 1), ('on', 1), ('process', 1), ('processing”', 1), ('the', 2), ('visible', 1), ('what’s', 1), ('“natural', 1)]\n"
     ]
    },
    {
     "data": {
      "text/plain": [
       "text    The most visible advances have been in what’s ...\n",
       "Name: 3, dtype: object"
      ]
     },
     "execution_count": 6,
     "metadata": {},
     "output_type": "execute_result"
    },
    {
     "name": "stdout",
     "output_type": "stream",
     "text": [
      "[('advances', 1.0), ('ai', 1.0), ('been', 1.0), ('branch', 1.0), ('called', 1.0), ('can', 1.0), ('computers', 1.0), ('do', 1.0), ('focused', 1.0), ('have', 1.0), ('how', 1.0), ('humans', 1.0), ('in', 1.0), ('language', 2.0), ('like', 1.0), ('most', 1.0), ('nlp', 1.0), ('of', 1.0), ('on', 1.0), ('process', 1.0), ('processing”', 1.0), ('the', 2.0), ('visible', 1.0), ('what’s', 1.0), ('“natural', 1.0)]\n"
     ]
    }
   ],
   "source": [
    "dtm, all_words = get_dtm(sents.text)\n",
    "\n",
    "# Check if the array is correct\n",
    "dtm.shape\n",
    "\n",
    "# randomly check one sentence\n",
    "idx = 3\n",
    "\n",
    "# get the dictionary using the function in Q1\n",
    "vocab = tokenize(sents[\"text\"].loc[idx])\n",
    "print(sorted(vocab.items(), key = lambda item: item[0]))\n",
    "\n",
    "# get all non-zero entries in dtm[idx] and create a dictionary\n",
    "# these two dictionaries should be the same\n",
    "sents.loc[idx]\n",
    "vocab1 ={all_words[j]: dtm[idx][j] for j in np.where(dtm[idx]>0)[0]}\n",
    "print(sorted(vocab1.items(), key = lambda item: item[0]))\n"
   ]
  },
  {
   "cell_type": "markdown",
   "metadata": {},
   "source": [
    "## Q3 Analyze DTM Array \n",
    "\n",
    "\n",
    "**Don't use any loop in this task**. You should use array operations to take the advantage of high performance computing."
   ]
  },
  {
   "cell_type": "markdown",
   "metadata": {},
   "source": [
    "Define a function named `analyze_dtm(dtm, words, sents)` which:\n",
    "* takes an array $dtm$ and $words$ as an input, where $dtm$ is the array you get in Q2 with a shape $(m \\times n)$, $words$ contains an array of words corresponding to the columns of $dtm$, and $sents$ are the list of sentences you used in Q2.\n",
    "* calculates the sentence frequency for each word, say $j$, e.g. how many sentences contain word $j$. Save the result to array $df$ ($df$ has shape of $(n,)$ or $(1, n)$).\n",
    "* normalizes the word count per sentence: divides word count, i.e., $dtm_{i,j}$, by the total number of words in sentence $i$. Save the result as an array named $tf$ ($tf$ has shape of $(m,n)$).\n",
    "* for each $dtm_{i,j}$, calculates $tf\\_idf_{i,j} = \\frac{tf_{i, j}}{df_j}$, i.e., divide each normalized word count by the sentence frequency of the word. The reason is, if a word appears in most sentences, it does not have the discriminative power and often is called a `stop` word. The inverse of $df$ can downgrade the weight of such words. $tf\\_idf$ has shape of $(m,n)$\n",
    "* prints out the following:\n",
    "    \n",
    "    - the total number of words in the document represented by $dtm$\n",
    "    - the most frequent top 10 words in this document    \n",
    "    - words with the top 10 largest $df$ values (show words and their $df$ values)\n",
    "    - the longest sentence (i.e., the one with the most words)\n",
    "    - top-10 words with the largest $tf\\_idf$ values in the longest sentence (show words and values) \n",
    "* returns the $tf\\_idf$ array.\n",
    "\n",
    "\n",
    "\n",
    "Note, for all the steps, **do not use any loop**. Just use array functions and broadcasting for high performance computation."
   ]
  },
  {
   "cell_type": "code",
   "execution_count": 7,
   "metadata": {},
   "outputs": [],
   "source": [
    "def analyze_dtm(dtm, words, sents):\n",
    "    \n",
    "    tfidf = None\n",
    "    \n",
    "    # add your code here\n",
    "    \n",
    "    #section1\n",
    "    num_rows,num_cols = dtm.shape\n",
    "    s1 = dtm.sum()\n",
    "    print('\\nThe total number of words:\\n',s1)\n",
    "    \n",
    "    #section2\n",
    "    col_sum = dtm.sum(axis=0)\n",
    "    sum_sort = np.argsort(col_sum)\n",
    "    idx2 = sum_sort[-10:]\n",
    "    top_words = words[idx2]\n",
    "    sum_words = col_sum[idx2]\n",
    "    s2 = list(zip(top_words,sum_words))[::-1]\n",
    "    print('\\nThe top 10 frequent words: \\n',s2)\n",
    "    \n",
    "    #section3\n",
    "    df = np.count_nonzero(dtm,axis=0)\n",
    "    count_sort = np.argsort(df)\n",
    "    idx3 = count_sort[-10:]\n",
    "    top_words2 = words[idx3]\n",
    "    count_words = df[idx3]\n",
    "    s3 = list(zip(top_words2,count_words))[::-1]\n",
    "    print('\\nThe top 10 words with highest df values: \\n',s3)\n",
    "    \n",
    "    #section4\n",
    "    row_sum = dtm.sum(axis=1)\n",
    "    row_sum_lst = list(row_sum)\n",
    "    max_val = max(row_sum_lst)\n",
    "    i = row_sum_lst.index((max_val))\n",
    "    s4 = sents[i]\n",
    "    print('\\nThe longest sentence : \\n',s4)\n",
    "    \n",
    "    #section5\n",
    "    tf = dtm/(row_sum.reshape(81,1))\n",
    "    tfidf = tf/(df.reshape(1,678))\n",
    "    tfidf_sentence_vals = tfidf[i,:]\n",
    "    tfidf_vals_sort = np.argsort(tfidf_sentence_vals)\n",
    "    idx5 = tfidf_vals_sort[-10:]\n",
    "    tfidf_main_words = words[idx5]\n",
    "    tfidf_main_vals = tfidf_sentence_vals[idx5]\n",
    "    s5 = list(zip(tfidf_main_words, tfidf_main_vals))[::-1]\n",
    "    print('\\nThe top 10 words with highest tf-idf values in the longest sentece: \\n',s5)\n",
    "    \n",
    "    \n",
    "    return tfidf"
   ]
  },
  {
   "cell_type": "code",
   "execution_count": 11,
   "metadata": {},
   "outputs": [
    {
     "name": "stdout",
     "output_type": "stream",
     "text": [
      "\n",
      "The total number of words:\n",
      " 1856.0\n",
      "\n",
      "The top 10 frequent words: \n",
      " [('the', 69.0), ('to', 65.0), ('and', 52.0), ('of', 50.0), ('for', 37.0), ('ai', 26.0), ('in', 24.0), ('is', 23.0), ('are', 22.0), ('tasks', 20.0)]\n",
      "\n",
      "The top 10 words with highest df values: \n",
      " [('the', 47), ('to', 42), ('and', 41), ('of', 38), ('for', 32), ('ai', 23), ('in', 22), ('like', 20), ('is', 20), ('tasks', 19)]\n",
      "\n",
      "The longest sentence : \n",
      " Language models are already reshaping traditional text analytics, but GPT-3 was an especially pivotal language model because, at 10x larger than any previous model upon release, it was the first large language model, which enabled it to perform even more advanced tasks like programming and solving high school–level math problems.\n",
      "\n",
      "The top 10 words with highest tf-idf values in the longest sentece: \n",
      " [('pivotal', 0.02), ('reshaping', 0.02), ('school–level', 0.02), ('math', 0.02), ('problems', 0.02), ('perform', 0.02), ('enabled', 0.02), ('release', 0.02), ('upon', 0.02), ('larger', 0.02)]\n"
     ]
    },
    {
     "data": {
      "text/plain": [
       "array([[0.0035461 , 0.16666667, 0.00438596, ..., 0.        , 0.        ,\n",
       "        0.        ],\n",
       "       [0.00073368, 0.        , 0.        , ..., 0.        , 0.        ,\n",
       "        0.        ],\n",
       "       [0.00092507, 0.        , 0.00114416, ..., 0.        , 0.        ,\n",
       "        0.        ],\n",
       "       ...,\n",
       "       [0.00092507, 0.        , 0.00114416, ..., 0.        , 0.        ,\n",
       "        0.        ],\n",
       "       [0.00073368, 0.        , 0.        , ..., 0.03448276, 0.        ,\n",
       "        0.        ],\n",
       "       [0.00085106, 0.        , 0.        , ..., 0.        , 0.04      ,\n",
       "        0.04      ]])"
      ]
     },
     "execution_count": 11,
     "metadata": {},
     "output_type": "execute_result"
    }
   ],
   "source": [
    "# convert the list to array so you can leverage array operations\n",
    "words = np.array(all_words)\n",
    "\n",
    "analyze_dtm(dtm, words, sents.text)"
   ]
  },
  {
   "cell_type": "markdown",
   "metadata": {},
   "source": [
    "## Q4. Find keywords of the document (Bonus) \n",
    "\n",
    "Can you leverage $dtm$ array you generated to find a few keywords that can be used to tag this document? e.g., AI, language models, tools, etc.\n",
    "\n",
    "\n",
    "Use a pdf file to describe your ideas and also implement your ideas."
   ]
  },
  {
   "cell_type": "markdown",
   "metadata": {},
   "source": [
    "## Put everything together and test using main block"
   ]
  },
  {
   "cell_type": "code",
   "execution_count": 10,
   "metadata": {},
   "outputs": [
    {
     "name": "stdout",
     "output_type": "stream",
     "text": [
      "Test Question 1\n",
      "{\"it's\": 1, 'hello': 2, 'world': 2, 'it': 1, 'is': 1, 'again': 1}\n",
      "\n",
      "Test Question 2\n",
      "(81, 678)\n",
      "\n",
      "Test Question 3\n",
      "\n",
      "The total number of words:\n",
      " 1856.0\n",
      "\n",
      "The top 10 frequent words: \n",
      " [('the', 69.0), ('to', 65.0), ('and', 52.0), ('of', 50.0), ('for', 37.0), ('ai', 26.0), ('in', 24.0), ('is', 23.0), ('are', 22.0), ('tasks', 20.0)]\n",
      "\n",
      "The top 10 words with highest df values: \n",
      " [('the', 47), ('to', 42), ('and', 41), ('of', 38), ('for', 32), ('ai', 23), ('in', 22), ('like', 20), ('is', 20), ('tasks', 19)]\n",
      "\n",
      "The longest sentence : \n",
      " Language models are already reshaping traditional text analytics, but GPT-3 was an especially pivotal language model because, at 10x larger than any previous model upon release, it was the first large language model, which enabled it to perform even more advanced tasks like programming and solving high school–level math problems.\n",
      "\n",
      "The top 10 words with highest tf-idf values in the longest sentece: \n",
      " [('pivotal', 0.02), ('reshaping', 0.02), ('school–level', 0.02), ('math', 0.02), ('problems', 0.02), ('perform', 0.02), ('enabled', 0.02), ('release', 0.02), ('upon', 0.02), ('larger', 0.02)]\n"
     ]
    }
   ],
   "source": [
    "# best practice to test your class\n",
    "# if your script is exported as a module,\n",
    "# the following part is ignored\n",
    "# this is equivalent to main() in Java\n",
    "\n",
    "if __name__ == \"__main__\":  \n",
    "    \n",
    "    # Test Question 1\n",
    "    text = \"\"\"it's a hello world!!!\n",
    "           it is hello world again.\"\"\"\n",
    "    print(\"Test Question 1\")\n",
    "    print(tokenize(text))\n",
    "    \n",
    "    \n",
    "    # Test Question 2\n",
    "    print(\"\\nTest Question 2\")\n",
    "    sents = pd.read_csv(\"sents.csv\")\n",
    "    \n",
    "    dtm, all_words = get_dtm(sents.text)\n",
    "    print(dtm.shape)\n",
    "    \n",
    "    \n",
    "    #3 Test Question 3\n",
    "    print(\"\\nTest Question 3\")\n",
    "    words = np.array(all_words)\n",
    "\n",
    "    tfidf= analyze_dtm(dtm, words, sents.text)\n",
    "    \n",
    "    "
   ]
  },
  {
   "cell_type": "code",
   "execution_count": null,
   "metadata": {},
   "outputs": [],
   "source": []
  }
 ],
 "metadata": {
  "kernelspec": {
   "display_name": "Python 3 (ipykernel)",
   "language": "python",
   "name": "python3"
  },
  "language_info": {
   "codemirror_mode": {
    "name": "ipython",
    "version": 3
   },
   "file_extension": ".py",
   "mimetype": "text/x-python",
   "name": "python",
   "nbconvert_exporter": "python",
   "pygments_lexer": "ipython3",
   "version": "3.9.12"
  }
 },
 "nbformat": 4,
 "nbformat_minor": 4
}
